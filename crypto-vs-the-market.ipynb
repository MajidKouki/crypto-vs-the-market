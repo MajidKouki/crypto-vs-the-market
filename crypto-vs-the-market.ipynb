{
 "cells": [
  {
   "cell_type": "markdown",
   "metadata": {},
   "source": [
    "# Crypto vs the Market"
   ]
  },
  {
   "cell_type": "markdown",
   "metadata": {},
   "source": [
    "## Initial project setup"
   ]
  },
  {
   "cell_type": "code",
   "execution_count": 15,
   "metadata": {},
   "outputs": [],
   "source": [
    "# Initial imports\n",
    "import os\n",
    "import pandas as pd\n",
    "import hvplot.pandas\n",
    "import pandas_ta as ta\n",
    "from dotenv import load_dotenv\n",
    "import alpaca_trade_api as tradeapi\n",
    "from MCForecastTools import MCSimulation\n",
    "%matplotlib inline"
   ]
  },
  {
   "cell_type": "code",
   "execution_count": 16,
   "metadata": {},
   "outputs": [
    {
     "data": {
      "text/plain": [
       "True"
      ]
     },
     "execution_count": 16,
     "metadata": {},
     "output_type": "execute_result"
    }
   ],
   "source": [
    "# Load the environment variables from the .env file\n",
    "load_dotenv()"
   ]
  },
  {
   "cell_type": "code",
   "execution_count": 17,
   "metadata": {},
   "outputs": [],
   "source": [
    "# Set the variables for the Alpaca API key and secret key\n",
    "alpaca_api_key = os.getenv(\"ALPACA_API_KEY\")\n",
    "alpaca_secret_key = os.getenv(\"ALPACA_SECRET_KEY\")"
   ]
  },
  {
   "cell_type": "code",
   "execution_count": 18,
   "metadata": {},
   "outputs": [],
   "source": [
    "# Create the Alpaca API REST object\n",
    "alpaca = tradeapi.REST(\n",
    "    alpaca_api_key,\n",
    "    alpaca_secret_key,\n",
    "    api_version = \"V2\"\n",
    ")"
   ]
  },
  {
   "cell_type": "markdown",
   "metadata": {},
   "source": [
    "## Alpaca API Data Import"
   ]
  },
  {
   "cell_type": "markdown",
   "metadata": {},
   "source": [
    "#### Market Data"
   ]
  },
  {
   "cell_type": "code",
   "execution_count": 19,
   "metadata": {},
   "outputs": [],
   "source": [
    "# Set ticker to SPY\n",
    "tickers = \"SPY\"\n",
    "\n",
    "# Set timeframe to 1Day\n",
    "timeframe = \"1Day\"\n",
    "\n",
    "# Set the start and end date\n",
    "start_date = pd.Timestamp(\"2018-07-01\", tz=\"America/New_York\").isoformat()\n",
    "end_date = pd.Timestamp(\"2022-07-01\", tz=\"America/New_York\").isoformat()"
   ]
  },
  {
   "cell_type": "code",
   "execution_count": 20,
   "metadata": {},
   "outputs": [
    {
     "data": {
      "text/html": [
       "<div>\n",
       "<style scoped>\n",
       "    .dataframe tbody tr th:only-of-type {\n",
       "        vertical-align: middle;\n",
       "    }\n",
       "\n",
       "    .dataframe tbody tr th {\n",
       "        vertical-align: top;\n",
       "    }\n",
       "\n",
       "    .dataframe thead tr th {\n",
       "        text-align: left;\n",
       "    }\n",
       "\n",
       "    .dataframe thead tr:last-of-type th {\n",
       "        text-align: right;\n",
       "    }\n",
       "</style>\n",
       "<table border=\"1\" class=\"dataframe\">\n",
       "  <thead>\n",
       "    <tr>\n",
       "      <th></th>\n",
       "      <th colspan=\"7\" halign=\"left\">SPY</th>\n",
       "    </tr>\n",
       "    <tr>\n",
       "      <th></th>\n",
       "      <th>open</th>\n",
       "      <th>high</th>\n",
       "      <th>low</th>\n",
       "      <th>close</th>\n",
       "      <th>volume</th>\n",
       "      <th>trade_count</th>\n",
       "      <th>vwap</th>\n",
       "    </tr>\n",
       "    <tr>\n",
       "      <th>timestamp</th>\n",
       "      <th></th>\n",
       "      <th></th>\n",
       "      <th></th>\n",
       "      <th></th>\n",
       "      <th></th>\n",
       "      <th></th>\n",
       "      <th></th>\n",
       "    </tr>\n",
       "  </thead>\n",
       "  <tbody>\n",
       "    <tr>\n",
       "      <th>2018-07-02 04:00:00+00:00</th>\n",
       "      <td>269.51</td>\n",
       "      <td>272.04</td>\n",
       "      <td>269.240</td>\n",
       "      <td>271.86</td>\n",
       "      <td>63769156</td>\n",
       "      <td>279127</td>\n",
       "      <td>270.689557</td>\n",
       "    </tr>\n",
       "    <tr>\n",
       "      <th>2018-07-03 04:00:00+00:00</th>\n",
       "      <td>272.88</td>\n",
       "      <td>272.98</td>\n",
       "      <td>270.420</td>\n",
       "      <td>270.90</td>\n",
       "      <td>42201071</td>\n",
       "      <td>180591</td>\n",
       "      <td>271.716151</td>\n",
       "    </tr>\n",
       "    <tr>\n",
       "      <th>2018-07-05 04:00:00+00:00</th>\n",
       "      <td>272.16</td>\n",
       "      <td>273.18</td>\n",
       "      <td>270.960</td>\n",
       "      <td>273.11</td>\n",
       "      <td>57441049</td>\n",
       "      <td>260592</td>\n",
       "      <td>272.247814</td>\n",
       "    </tr>\n",
       "    <tr>\n",
       "      <th>2018-07-06 04:00:00+00:00</th>\n",
       "      <td>273.14</td>\n",
       "      <td>275.84</td>\n",
       "      <td>272.715</td>\n",
       "      <td>275.42</td>\n",
       "      <td>66693896</td>\n",
       "      <td>269826</td>\n",
       "      <td>274.929843</td>\n",
       "    </tr>\n",
       "    <tr>\n",
       "      <th>2018-07-09 04:00:00+00:00</th>\n",
       "      <td>276.56</td>\n",
       "      <td>277.96</td>\n",
       "      <td>276.500</td>\n",
       "      <td>277.90</td>\n",
       "      <td>51771719</td>\n",
       "      <td>212828</td>\n",
       "      <td>277.260701</td>\n",
       "    </tr>\n",
       "  </tbody>\n",
       "</table>\n",
       "</div>"
      ],
      "text/plain": [
       "                              SPY                                     \\\n",
       "                             open    high      low   close    volume   \n",
       "timestamp                                                              \n",
       "2018-07-02 04:00:00+00:00  269.51  272.04  269.240  271.86  63769156   \n",
       "2018-07-03 04:00:00+00:00  272.88  272.98  270.420  270.90  42201071   \n",
       "2018-07-05 04:00:00+00:00  272.16  273.18  270.960  273.11  57441049   \n",
       "2018-07-06 04:00:00+00:00  273.14  275.84  272.715  275.42  66693896   \n",
       "2018-07-09 04:00:00+00:00  276.56  277.96  276.500  277.90  51771719   \n",
       "\n",
       "                                                   \n",
       "                          trade_count        vwap  \n",
       "timestamp                                          \n",
       "2018-07-02 04:00:00+00:00      279127  270.689557  \n",
       "2018-07-03 04:00:00+00:00      180591  271.716151  \n",
       "2018-07-05 04:00:00+00:00      260592  272.247814  \n",
       "2018-07-06 04:00:00+00:00      269826  274.929843  \n",
       "2018-07-09 04:00:00+00:00      212828  277.260701  "
      ]
     },
     "execution_count": 20,
     "metadata": {},
     "output_type": "execute_result"
    }
   ],
   "source": [
    "# Use Alpaca get_bars function to get data for SPY\n",
    "spy_prices_df = alpaca.get_bars(\n",
    "    tickers,\n",
    "    timeframe,\n",
    "    start = start_date,\n",
    "    end = end_date,\n",
    ").df\n",
    "\n",
    "# Concatenate the ticker dataframe\n",
    "spy_prices_df = pd.concat([spy_prices_df], axis=1, keys=[\"SPY\"])\n",
    "\n",
    "# Use .head() to verify\n",
    "spy_prices_df.head()"
   ]
  },
  {
   "cell_type": "markdown",
   "metadata": {},
   "source": [
    "#### Crypto Data"
   ]
  },
  {
   "cell_type": "code",
   "execution_count": 21,
   "metadata": {},
   "outputs": [],
   "source": [
    "# Set ticker to BTCUSD\n",
    "tickers = \"BTCUSD\"\n",
    "\n",
    "# Set timeframe to 1Day\n",
    "timeframe = \"1Day\"\n",
    "\n",
    "# Set the start and end date\n",
    "start_date = pd.Timestamp(\"2018-07-01\", tz=\"America/New_York\").isoformat()\n",
    "end_date = pd.Timestamp(\"2022-07-01\", tz=\"America/New_York\").isoformat()"
   ]
  },
  {
   "cell_type": "code",
   "execution_count": 22,
   "metadata": {},
   "outputs": [
    {
     "data": {
      "text/html": [
       "<div>\n",
       "<style scoped>\n",
       "    .dataframe tbody tr th:only-of-type {\n",
       "        vertical-align: middle;\n",
       "    }\n",
       "\n",
       "    .dataframe tbody tr th {\n",
       "        vertical-align: top;\n",
       "    }\n",
       "\n",
       "    .dataframe thead tr th {\n",
       "        text-align: left;\n",
       "    }\n",
       "\n",
       "    .dataframe thead tr:last-of-type th {\n",
       "        text-align: right;\n",
       "    }\n",
       "</style>\n",
       "<table border=\"1\" class=\"dataframe\">\n",
       "  <thead>\n",
       "    <tr>\n",
       "      <th></th>\n",
       "      <th colspan=\"7\" halign=\"left\">BTCUSD</th>\n",
       "    </tr>\n",
       "    <tr>\n",
       "      <th></th>\n",
       "      <th>open</th>\n",
       "      <th>high</th>\n",
       "      <th>low</th>\n",
       "      <th>close</th>\n",
       "      <th>volume</th>\n",
       "      <th>trade_count</th>\n",
       "      <th>vwap</th>\n",
       "    </tr>\n",
       "    <tr>\n",
       "      <th>timestamp</th>\n",
       "      <th></th>\n",
       "      <th></th>\n",
       "      <th></th>\n",
       "      <th></th>\n",
       "      <th></th>\n",
       "      <th></th>\n",
       "      <th></th>\n",
       "    </tr>\n",
       "  </thead>\n",
       "  <tbody>\n",
       "    <tr>\n",
       "      <th>2018-07-01 05:00:00+00:00</th>\n",
       "      <td>6349.50</td>\n",
       "      <td>6351.00</td>\n",
       "      <td>6270.01</td>\n",
       "      <td>6304.55</td>\n",
       "      <td>643.082606</td>\n",
       "      <td>61723</td>\n",
       "      <td>6325.628835</td>\n",
       "    </tr>\n",
       "    <tr>\n",
       "      <th>2018-07-02 05:00:00+00:00</th>\n",
       "      <td>6304.55</td>\n",
       "      <td>6669.99</td>\n",
       "      <td>6270.01</td>\n",
       "      <td>6611.79</td>\n",
       "      <td>7184.664968</td>\n",
       "      <td>37641</td>\n",
       "      <td>6556.943445</td>\n",
       "    </tr>\n",
       "    <tr>\n",
       "      <th>2018-07-03 05:00:00+00:00</th>\n",
       "      <td>6502.62</td>\n",
       "      <td>6518.25</td>\n",
       "      <td>6411.51</td>\n",
       "      <td>6469.00</td>\n",
       "      <td>1325.274215</td>\n",
       "      <td>9573</td>\n",
       "      <td>6463.236479</td>\n",
       "    </tr>\n",
       "    <tr>\n",
       "      <th>2018-07-04 05:00:00+00:00</th>\n",
       "      <td>6587.46</td>\n",
       "      <td>6700.00</td>\n",
       "      <td>6508.72</td>\n",
       "      <td>6620.99</td>\n",
       "      <td>1345.963438</td>\n",
       "      <td>57950</td>\n",
       "      <td>6606.931106</td>\n",
       "    </tr>\n",
       "    <tr>\n",
       "      <th>2018-07-05 05:00:00+00:00</th>\n",
       "      <td>6621.00</td>\n",
       "      <td>6684.00</td>\n",
       "      <td>6449.50</td>\n",
       "      <td>6532.95</td>\n",
       "      <td>4944.828533</td>\n",
       "      <td>43786</td>\n",
       "      <td>6565.028002</td>\n",
       "    </tr>\n",
       "  </tbody>\n",
       "</table>\n",
       "</div>"
      ],
      "text/plain": [
       "                            BTCUSD                                          \\\n",
       "                              open     high      low    close       volume   \n",
       "timestamp                                                                    \n",
       "2018-07-01 05:00:00+00:00  6349.50  6351.00  6270.01  6304.55   643.082606   \n",
       "2018-07-02 05:00:00+00:00  6304.55  6669.99  6270.01  6611.79  7184.664968   \n",
       "2018-07-03 05:00:00+00:00  6502.62  6518.25  6411.51  6469.00  1325.274215   \n",
       "2018-07-04 05:00:00+00:00  6587.46  6700.00  6508.72  6620.99  1345.963438   \n",
       "2018-07-05 05:00:00+00:00  6621.00  6684.00  6449.50  6532.95  4944.828533   \n",
       "\n",
       "                                                    \n",
       "                          trade_count         vwap  \n",
       "timestamp                                           \n",
       "2018-07-01 05:00:00+00:00       61723  6325.628835  \n",
       "2018-07-02 05:00:00+00:00       37641  6556.943445  \n",
       "2018-07-03 05:00:00+00:00        9573  6463.236479  \n",
       "2018-07-04 05:00:00+00:00       57950  6606.931106  \n",
       "2018-07-05 05:00:00+00:00       43786  6565.028002  "
      ]
     },
     "execution_count": 22,
     "metadata": {},
     "output_type": "execute_result"
    }
   ],
   "source": [
    "# Use the Alpaca get_crypto_bars function to get data for BTCUSD\n",
    "btc_prices_df = alpaca.get_crypto_bars(\n",
    "    tickers,\n",
    "    timeframe,\n",
    "    start = start_date,\n",
    "    end = end_date,\n",
    ").df\n",
    "\n",
    "# Filter out all exchanges other than Coinbase and drop redundant exchange column\n",
    "btc_prices_df = btc_prices_df[btc_prices_df.exchange == \"CBSE\"]\n",
    "btc_prices_df = btc_prices_df.drop(axis=1, columns=\"exchange\")\n",
    "\n",
    "# Concatenate the ticker dataframe\n",
    "btc_prices_df = pd.concat([btc_prices_df], axis=1, keys=[\"BTCUSD\"])\n",
    "\n",
    "# Use .head() to verify\n",
    "btc_prices_df.head()"
   ]
  },
  {
   "cell_type": "markdown",
   "metadata": {},
   "source": [
    "## Bitcoin vs the S&P500: Long-Term - Jason"
   ]
  },
  {
   "cell_type": "code",
   "execution_count": null,
   "metadata": {},
   "outputs": [],
   "source": []
  },
  {
   "cell_type": "markdown",
   "metadata": {},
   "source": [
    "## Bitcoin vs the S&P500: Trading - Majid"
   ]
  },
  {
   "cell_type": "code",
   "execution_count": null,
   "metadata": {},
   "outputs": [],
   "source": []
  },
  {
   "cell_type": "markdown",
   "metadata": {},
   "source": [
    "## Bitcoin vs the S&P500: Monte Carlo Simulations - Whoever gets to it first"
   ]
  },
  {
   "cell_type": "code",
   "execution_count": null,
   "metadata": {},
   "outputs": [],
   "source": []
  },
  {
   "cell_type": "markdown",
   "metadata": {},
   "source": [
    "## Closing Notes & Analysis"
   ]
  },
  {
   "cell_type": "code",
   "execution_count": null,
   "metadata": {},
   "outputs": [],
   "source": []
  }
 ],
 "metadata": {
  "kernelspec": {
   "display_name": "Python 3.7.13 ('dev')",
   "language": "python",
   "name": "python3"
  },
  "language_info": {
   "codemirror_mode": {
    "name": "ipython",
    "version": 3
   },
   "file_extension": ".py",
   "mimetype": "text/x-python",
   "name": "python",
   "nbconvert_exporter": "python",
   "pygments_lexer": "ipython3",
   "version": "3.7.13"
  },
  "orig_nbformat": 4,
  "vscode": {
   "interpreter": {
    "hash": "df4d0ebb962a50ea8808b6acf3e6d8dc386f186e351330be88d5cdd3472076a9"
   }
  }
 },
 "nbformat": 4,
 "nbformat_minor": 2
}
